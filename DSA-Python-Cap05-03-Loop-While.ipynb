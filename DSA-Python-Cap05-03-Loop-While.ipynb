{
 "cells": [
  {
   "cell_type": "markdown",
   "id": "77bbc2bd",
   "metadata": {},
   "source": [
    "LOOP WHILE"
   ]
  },
  {
   "cell_type": "code",
   "execution_count": 15,
   "id": "9550764a",
   "metadata": {},
   "outputs": [
    {
     "name": "stdout",
     "output_type": "stream",
     "text": [
      "0\n",
      "1\n",
      "2\n",
      "3\n",
      "4\n",
      "5\n",
      "6\n",
      "7\n",
      "8\n",
      "9\n"
     ]
    }
   ],
   "source": [
    "#Usando o Loop While para imprimir os valores 0 a 9\n",
    "#A condição tem que deixar de ser verdadeira dentro do loop, senão pode travar o navagador ou o computador\n",
    "valor = 0\n",
    "while valor < 10:\n",
    "    print(valor)\n",
    "    valor = valor + 1"
   ]
  },
  {
   "cell_type": "code",
   "execution_count": 16,
   "id": "58c52569",
   "metadata": {},
   "outputs": [],
   "source": [
    "#Entra no Loop somemnte se a condição for verdadeira\n",
    "valor = 11\n",
    "while valor < 10:\n",
    "    print(v)\n",
    "    valor = valor + 1\n"
   ]
  },
  {
   "cell_type": "code",
   "execution_count": 17,
   "id": "26bdc923",
   "metadata": {},
   "outputs": [
    {
     "name": "stdout",
     "output_type": "stream",
     "text": [
      "O valor de x nesta iteração é: 0\n",
      "x ainda é menor que 10, somando 1 a x\n",
      "O valor de x nesta iteração é: 1\n",
      "x ainda é menor que 10, somando 1 a x\n",
      "O valor de x nesta iteração é: 2\n",
      "x ainda é menor que 10, somando 1 a x\n",
      "O valor de x nesta iteração é: 3\n",
      "x ainda é menor que 10, somando 1 a x\n",
      "O valor de x nesta iteração é: 4\n",
      "x ainda é menor que 10, somando 1 a x\n",
      "O valor de x nesta iteração é: 5\n",
      "x ainda é menor que 10, somando 1 a x\n",
      "O valor de x nesta iteração é: 6\n",
      "x ainda é menor que 10, somando 1 a x\n",
      "O valor de x nesta iteração é: 7\n",
      "x ainda é menor que 10, somando 1 a x\n",
      "O valor de x nesta iteração é: 8\n",
      "x ainda é menor que 10, somando 1 a x\n",
      "O valor de x nesta iteração é: 9\n",
      "x ainda é menor que 10, somando 1 a x\n",
      "Loop concluído!\n",
      "10\n"
     ]
    }
   ],
   "source": [
    "#Também é possível usar a cláusula else para encerrar o loop While\n",
    "x= 0\n",
    "while x < 10:\n",
    "    print('O valor de x nesta iteração é:', x)\n",
    "    print('x ainda é menor que 10, somando 1 a x')\n",
    "    x += 1\n",
    "else:\n",
    "        print('Loop concluído!')\n",
    "        print(x)"
   ]
  },
  {
   "cell_type": "markdown",
   "id": "8a46dd87",
   "metadata": {},
   "source": [
    "PASS, BREAK, CONTINUE"
   ]
  },
  {
   "cell_type": "code",
   "execution_count": 18,
   "id": "55c27caf",
   "metadata": {},
   "outputs": [
    {
     "name": "stdout",
     "output_type": "stream",
     "text": [
      "0\n",
      "1\n",
      "2\n",
      "3\n"
     ]
    }
   ],
   "source": [
    "#Se encontramos o número 4 interrompemos o Loop\n",
    "\n",
    "valor = 0\n",
    "while valor < 10:\n",
    "    if valor == 4:\n",
    "        break\n",
    "    else:\n",
    "        pass\n",
    "    print(valor)\n",
    "    valor = valor + 1\n",
    "    \n",
    "\n",
    "\n",
    "\n",
    "\n"
   ]
  },
  {
   "cell_type": "code",
   "execution_count": 19,
   "id": "d7aee643",
   "metadata": {},
   "outputs": [
    {
     "name": "stdout",
     "output_type": "stream",
     "text": [
      "P\n",
      "y\n",
      "t\n",
      "h\n",
      "o\n",
      "n\n",
      " \n",
      "é\n",
      " \n",
      " \n",
      "i\n",
      "n\n",
      "c\n",
      "r\n",
      "í\n",
      "v\n",
      "e\n",
      "l\n",
      "!\n"
     ]
    }
   ],
   "source": [
    "#Desconsideramos a letra z ao imprimir os caracteres da frase\n",
    "for letra in 'Python é zzz incrível!':\n",
    "    if letra == 'z':\n",
    "        continue\n",
    "    print(letra)"
   ]
  },
  {
   "cell_type": "markdown",
   "id": "aa07434d",
   "metadata": {},
   "source": [
    "WHILE E FOR JUNTOS\n",
    "\n",
    "VAMOS ENCONTRAR NÚMEROS PRIMOS EM UMA COLEÇÃO DE NÚMEROS USANDO LOOP wHILE E fOR JUNTOS.\n",
    "Um número primo é um número natural maior do que 1 que é divisível apenas por 1 e por ele mesmo. Isso significa que não há nenhum outro número inteiro que possa dividir o número primo sem deixar resto.Por exemplo, o número 2 é primo, pois é divisível apenas por 1 e 2. O número 4 não é primo, pois é divisível também por 2.\n",
    "Aqui está o pseudocódigo:"
   ]
  },
  {
   "cell_type": "markdown",
   "id": "266e364f",
   "metadata": {},
   "source": [
    "Inicialize uma lista vazia para armazenar os números primos\n",
    "Para cada número N entre 2 e 30:\n",
    "    Inicialize uma variável eh_primo como verdadeira\n",
    "    para cada número i entre 2 e N/2:\n",
    "        Se N é divisível por i, então:\n",
    "            Altere a variável eh_primo para falso\n",
    "            Pare de verificar os outros números\n",
    "        Se a variável eh_primo ainda é verdadeira, adicione Nà lista de numeros primos\n",
    "        Imprima a lista de números primos."
   ]
  },
  {
   "cell_type": "code",
   "execution_count": 20,
   "id": "96b7f438",
   "metadata": {},
   "outputs": [
    {
     "name": "stdout",
     "output_type": "stream",
     "text": [
      "[2, 3, 5, 7, 11, 13, 17, 19, 23, 29]\n",
      "CPU times: total: 0 ns\n",
      "Wall time: 998 µs\n"
     ]
    }
   ],
   "source": [
    "%%time\n",
    "#Encontrando números primos entre 2 e 30 usando loop for e while\n",
    "\n",
    "#Variável para armazenar números primos\n",
    "primos = []\n",
    "\n",
    "#Loop for para percorrer números de 2 a 30\n",
    "for num in range(2, 31):\n",
    "    \n",
    "    #Variável der controle\n",
    "    eh_primo = True\n",
    "    \n",
    "    #Loop While para verificar se o número é primo\n",
    "    i = 2\n",
    "    while i <= num // 2:\n",
    "        if num % i == 0:\n",
    "            eh_primo = False\n",
    "            break\n",
    "        i += 1\n",
    "    \n",
    "#Adicionando o número primo na lista\n",
    "    if eh_primo:\n",
    "        primos.append(num)\n",
    "        \n",
    "#Imprimindo a lista de números  primos\n",
    "print(primos)\n"
   ]
  },
  {
   "cell_type": "code",
   "execution_count": 21,
   "id": "d940ea27",
   "metadata": {},
   "outputs": [
    {
     "name": "stdout",
     "output_type": "stream",
     "text": [
      "2 é um número primo\n",
      "3 é um número primo\n",
      "5 é um número primo\n",
      "7 é um número primo\n",
      "11 é um número primo\n",
      "13 é um número primo\n",
      "17 é um número primo\n",
      "19 é um número primo\n",
      "23 é um número primo\n",
      "29 é um número primo\n",
      "CPU times: total: 0 ns\n",
      "Wall time: 999 µs\n"
     ]
    }
   ],
   "source": [
    "%%time\n",
    "#Encontrando números primos entre 2 e 30 usando loop for e while\n",
    "\n",
    "#Loop for para percorrer números de 2 a 30\n",
    "for i in range(2, 31):\n",
    "    \n",
    "    #Variável der controle\n",
    "    j = 2\n",
    "    \n",
    "    #contador\n",
    "    valor = 0\n",
    "    \n",
    "    #Loop While para verificar se o número é primo\n",
    "\n",
    "    while j < i:\n",
    "        if  i % j ==0:\n",
    "            valor = 1\n",
    "            j = j + 1\n",
    "        else:\n",
    "            j = j + 1\n",
    "       \n",
    "    if valor == 0:\n",
    "        print(str(i) + ' é um número primo')\n",
    "        valor = 0\n",
    "    else:\n",
    "        valor = 0\n",
    "        \n"
   ]
  },
  {
   "cell_type": "markdown",
   "id": "b2971092",
   "metadata": {},
   "source": [
    "FIM"
   ]
  },
  {
   "cell_type": "code",
   "execution_count": null,
   "id": "b76e8830",
   "metadata": {},
   "outputs": [],
   "source": []
  }
 ],
 "metadata": {
  "kernelspec": {
   "display_name": "Python 3 (ipykernel)",
   "language": "python",
   "name": "python3"
  },
  "language_info": {
   "codemirror_mode": {
    "name": "ipython",
    "version": 3
   },
   "file_extension": ".py",
   "mimetype": "text/x-python",
   "name": "python",
   "nbconvert_exporter": "python",
   "pygments_lexer": "ipython3",
   "version": "3.9.12"
  }
 },
 "nbformat": 4,
 "nbformat_minor": 5
}
