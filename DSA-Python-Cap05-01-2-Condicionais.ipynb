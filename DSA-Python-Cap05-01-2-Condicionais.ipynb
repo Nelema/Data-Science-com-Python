{
 "cells": [
  {
   "cell_type": "markdown",
   "id": "039d2c96",
   "metadata": {},
   "source": [
    "Condicional if"
   ]
  },
  {
   "cell_type": "code",
   "execution_count": 2,
   "id": "d3a7a444",
   "metadata": {},
   "outputs": [
    {
     "name": "stdout",
     "output_type": "stream",
     "text": [
      "A sentença é verdadeira!\n"
     ]
    }
   ],
   "source": [
    "# Condicional if(se)\n",
    "if 5 > 2:\n",
    "    print('A sentença é verdadeira!')"
   ]
  },
  {
   "cell_type": "code",
   "execution_count": 3,
   "id": "3c4425ed",
   "metadata": {},
   "outputs": [
    {
     "name": "stdout",
     "output_type": "stream",
     "text": [
      "A sentença é falsa!\n"
     ]
    }
   ],
   "source": [
    "#Condicional if....else (se não)\n",
    "if 5 < 2:\n",
    "    print('A sentença é verdadeira!')\n",
    "else:\n",
    "    print('A sentença é falsa!') "
   ]
  },
  {
   "cell_type": "code",
   "execution_count": 4,
   "id": "7a8a72df",
   "metadata": {},
   "outputs": [
    {
     "name": "stdout",
     "output_type": "stream",
     "text": [
      "Hoje vai chover!\n"
     ]
    }
   ],
   "source": [
    "#Condicional if ... else com variável\n",
    "dia = 'Terça'\n",
    "if dia == 'Segunda':\n",
    "    print('Hoje fará sol!')\n",
    "else:\n",
    "    print('Hoje vai chover!')"
   ]
  },
  {
   "cell_type": "code",
   "execution_count": 5,
   "id": "e2554205",
   "metadata": {},
   "outputs": [
    {
     "name": "stdout",
     "output_type": "stream",
     "text": [
      "Hoje vai chover!\n"
     ]
    }
   ],
   "source": [
    "#Podemos usar o operador elif para validar mais de uma condição\n",
    "if dia == 'Segunda':\n",
    "    print('Hoje fará sol!')\n",
    "elif dia == 'Terça':\n",
    "    print('Hoje vai chover!')\n",
    "else:\n",
    "    print('Sem previsão do Tempo para o dia selecionado!')\n",
    "    "
   ]
  },
  {
   "cell_type": "markdown",
   "id": "ef6ccfbb",
   "metadata": {},
   "source": [
    "Operadores Relacionais"
   ]
  },
  {
   "cell_type": "code",
   "execution_count": 6,
   "id": "84208a8b",
   "metadata": {},
   "outputs": [
    {
     "data": {
      "text/plain": [
       "True"
      ]
     },
     "execution_count": 6,
     "metadata": {},
     "output_type": "execute_result"
    }
   ],
   "source": [
    "6 > 2"
   ]
  },
  {
   "cell_type": "code",
   "execution_count": 7,
   "id": "6eb7c0b3",
   "metadata": {},
   "outputs": [
    {
     "data": {
      "text/plain": [
       "False"
      ]
     },
     "execution_count": 7,
     "metadata": {},
     "output_type": "execute_result"
    }
   ],
   "source": [
    "3 > 7"
   ]
  },
  {
   "cell_type": "code",
   "execution_count": 8,
   "id": "49eb7371",
   "metadata": {},
   "outputs": [
    {
     "data": {
      "text/plain": [
       "True"
      ]
     },
     "execution_count": 8,
     "metadata": {},
     "output_type": "execute_result"
    }
   ],
   "source": [
    "4 >= 4"
   ]
  },
  {
   "cell_type": "code",
   "execution_count": 9,
   "id": "6d4c1c14",
   "metadata": {},
   "outputs": [
    {
     "data": {
      "text/plain": [
       "True"
      ]
     },
     "execution_count": 9,
     "metadata": {},
     "output_type": "execute_result"
    }
   ],
   "source": [
    "5 == 5"
   ]
  },
  {
   "cell_type": "code",
   "execution_count": 10,
   "id": "17b1dd14",
   "metadata": {},
   "outputs": [
    {
     "name": "stdout",
     "output_type": "stream",
     "text": [
      "Testando Python!\n"
     ]
    }
   ],
   "source": [
    "if 5 == 5:\n",
    "    print ('Testando Python!')"
   ]
  },
  {
   "cell_type": "code",
   "execution_count": 11,
   "id": "cff008d0",
   "metadata": {},
   "outputs": [
    {
     "name": "stdout",
     "output_type": "stream",
     "text": [
      "Parece que Python funciona!\n"
     ]
    }
   ],
   "source": [
    "if True :\n",
    "    print('Parece que Python funciona!')"
   ]
  },
  {
   "cell_type": "code",
   "execution_count": 12,
   "id": "f8624157",
   "metadata": {},
   "outputs": [
    {
     "ename": "SyntaxError",
     "evalue": "invalid syntax (81396117.py, line 2)",
     "output_type": "error",
     "traceback": [
      "\u001b[1;36m  Input \u001b[1;32mIn [12]\u001b[1;36m\u001b[0m\n\u001b[1;33m    if 4 > 3\u001b[0m\n\u001b[1;37m             ^\u001b[0m\n\u001b[1;31mSyntaxError\u001b[0m\u001b[1;31m:\u001b[0m invalid syntax\n"
     ]
    }
   ],
   "source": [
    "#Atençãp com a sintaxe\n",
    "if 4 > 3 \n",
    "    print('Tudo funciona!')"
   ]
  },
  {
   "cell_type": "code",
   "execution_count": 14,
   "id": "0c95039d",
   "metadata": {},
   "outputs": [
    {
     "name": "stdout",
     "output_type": "stream",
     "text": [
      "Tudo funciona!\n"
     ]
    }
   ],
   "source": [
    "#Atençãp com a sintaxe\n",
    "if 4 > 3:\n",
    "    print('Tudo funciona!')"
   ]
  },
  {
   "cell_type": "code",
   "execution_count": 16,
   "id": "5b71222d",
   "metadata": {},
   "outputs": [
    {
     "name": "stdout",
     "output_type": "stream",
     "text": [
      "Tudo funciona!\n"
     ]
    }
   ],
   "source": [
    "#Atençãp com a sintaxe\n",
    "if 4 > 3:\n",
    "    print('Tudo funciona!')"
   ]
  },
  {
   "cell_type": "markdown",
   "id": "278dac81",
   "metadata": {},
   "source": [
    "CONDICIONAIS ANINHADOS"
   ]
  },
  {
   "cell_type": "code",
   "execution_count": 17,
   "id": "3123a5a1",
   "metadata": {},
   "outputs": [
    {
     "name": "stdout",
     "output_type": "stream",
     "text": [
      "Você pode dirigir!\n"
     ]
    }
   ],
   "source": [
    "idade = 18\n",
    "if idade > 17:\n",
    "    print('Você pode dirigir!')"
   ]
  },
  {
   "cell_type": "code",
   "execution_count": 18,
   "id": "b1ee42aa",
   "metadata": {},
   "outputs": [
    {
     "name": "stdout",
     "output_type": "stream",
     "text": [
      "Ok Bob, você está autorizado a entrar!\n"
     ]
    }
   ],
   "source": [
    "Nome = 'Bob'\n",
    "if idade > 13:\n",
    "    if Nome == 'Bob':\n",
    "        print('Ok Bob, você está autorizado a entrar!')\n",
    "    else:\n",
    "        print('Desculpe, mas você não pode entrar!')\n",
    "        "
   ]
  },
  {
   "cell_type": "code",
   "execution_count": 19,
   "id": "3bf71254",
   "metadata": {},
   "outputs": [
    {
     "name": "stdout",
     "output_type": "stream",
     "text": [
      "Ok Bob, você está autorizado a entrar!\n"
     ]
    }
   ],
   "source": [
    "idade = 13\n",
    "Nome = 'Bob'\n",
    "if idade >= 13 and Nome == 'Bob':\n",
    "    print('Ok Bob, você está autorizado a entrar!')"
   ]
  },
  {
   "cell_type": "code",
   "execution_count": 20,
   "id": "99c12685",
   "metadata": {},
   "outputs": [
    {
     "name": "stdout",
     "output_type": "stream",
     "text": [
      "Você pode dirigir!\n"
     ]
    }
   ],
   "source": [
    "idade = 12\n",
    "Nome = 'Bob'\n",
    "if idade >= 13 or Nome =='Bob':\n",
    "    print('Você pode dirigir!')"
   ]
  },
  {
   "cell_type": "markdown",
   "id": "b455f528",
   "metadata": {},
   "source": [
    "#OPERADORES LÓGICOS"
   ]
  },
  {
   "cell_type": "code",
   "execution_count": 23,
   "id": "75b8f97d",
   "metadata": {},
   "outputs": [
    {
     "name": "stdout",
     "output_type": "stream",
     "text": [
      "Você pode dirigir!\n"
     ]
    }
   ],
   "source": [
    "idade = 18\n",
    "nome = 'Bob'\n",
    "if idade >= 18 and nome == 'Bob':\n",
    "    print('Você pode dirigir!')"
   ]
  },
  {
   "cell_type": "markdown",
   "id": "7727d78d",
   "metadata": {},
   "source": [
    "Operadores Lógicos funcionam assim:\n",
    "    Operador and - Retorna True se ambas as declarações forem verdadeiras.\n",
    "    Operador or - Retorna True se uma das declarações for verdadeira.\n",
    "    Operador not - Inverte o resultado, retorna False se o resultado for True.\n",
    "    "
   ]
  },
  {
   "cell_type": "code",
   "execution_count": 24,
   "id": "5335cd31",
   "metadata": {},
   "outputs": [
    {
     "name": "stdout",
     "output_type": "stream",
     "text": [
      "Isso está sendo impresso porque as duas condições são verdadeiras!\n"
     ]
    }
   ],
   "source": [
    "#Operador and\n",
    "numero = 4\n",
    "\n",
    "if numero > 2 and numero % 2 ==0:\n",
    "    print('Isso está sendo impresso porque as duas condições são verdadeiras!')"
   ]
  },
  {
   "cell_type": "code",
   "execution_count": 25,
   "id": "16efd4c4",
   "metadata": {},
   "outputs": [
    {
     "name": "stdout",
     "output_type": "stream",
     "text": [
      "Isso está sendo impresso porque uma das condições é verdadeira!\n"
     ]
    }
   ],
   "source": [
    "#Operador and\n",
    "\n",
    "numero = 4\n",
    "\n",
    "if numero > 5 or numero % 2 == 0:\n",
    "    print('Isso está sendo impresso porque uma das condições é verdadeira!')"
   ]
  },
  {
   "cell_type": "code",
   "execution_count": 26,
   "id": "33de5d90",
   "metadata": {},
   "outputs": [
    {
     "name": "stdout",
     "output_type": "stream",
     "text": [
      "Isso está sendo impresso porque uma das duas condições é falsa!\n"
     ]
    }
   ],
   "source": [
    "#Operador not\n",
    "\n",
    "numero = 4\n",
    "\n",
    "if not numero and numero % 2 == 0:\n",
    "    print('Isso está sendo impresso porque as duas condições são verdadeiras!')\n",
    "else:\n",
    "    print('Isso está sendo impresso porque uma das duas condições é falsa!')"
   ]
  },
  {
   "cell_type": "code",
   "execution_count": 27,
   "id": "44467c68",
   "metadata": {},
   "outputs": [
    {
     "name": "stdout",
     "output_type": "stream",
     "text": [
      "Isso está sendo impresso porque as duas primeiras condições são verdadeiras ou a terceira é verdadeira!\n"
     ]
    }
   ],
   "source": [
    "#Operador and, or e not\n",
    "\n",
    "numero = 4\n",
    "\n",
    "if not numero > 5 and numero % 2 == 0 or numero== 4:\n",
    "    print('Isso está sendo impresso porque as duas primeiras condições são verdadeiras ou a terceira é verdadeira!')"
   ]
  },
  {
   "cell_type": "code",
   "execution_count": 28,
   "id": "1bc34669",
   "metadata": {},
   "outputs": [
    {
     "name": "stdout",
     "output_type": "stream",
     "text": [
      "Você foi aprovado!\n"
     ]
    }
   ],
   "source": [
    "# Exemplo com o uso de variáveis\n",
    "\n",
    "disciplina = 'Data Science'\n",
    "nota_final = 70\n",
    "\n",
    "if disciplina == 'Data Science' and nota_final >= 70:\n",
    "    print('Você foi aprovado!')\n",
    "else:\n",
    "    print('Lamento, acho que você precisa estudar mais!')\n",
    "    "
   ]
  },
  {
   "cell_type": "code",
   "execution_count": 29,
   "id": "0bdf4a81",
   "metadata": {},
   "outputs": [
    {
     "name": "stdout",
     "output_type": "stream",
     "text": [
      "Lamento, acho que você precisa estudar mais!\n"
     ]
    }
   ],
   "source": [
    "#Usando mais de uma condição da cláusula if\n",
    "\n",
    "disciplina = 'Data Science'\n",
    "nota_final = 60\n",
    "\n",
    "if disciplina == 'Data Science' and nota_final >= 70:\n",
    "    print('Você foi aprovado!')\n",
    "else:\n",
    "    print('Lamento, acho que você precisa estudar mais!')\n",
    "    "
   ]
  },
  {
   "cell_type": "code",
   "execution_count": 33,
   "id": "5c34a416",
   "metadata": {},
   "outputs": [
    {
     "name": "stdout",
     "output_type": "stream",
     "text": [
      "Você foi aprovado em Data Science com média final 90! \n"
     ]
    }
   ],
   "source": [
    "#Usando mais de uma condição na cláusula if e introduzindo Placeholders\n",
    "\n",
    "discipplina = 'Data Sccience'\n",
    "nota_final = 90\n",
    "semestre = 2\n",
    "\n",
    "if disciplina == 'Data Science' and nota_final >= 80 and semestre != 1:\n",
    "    print('Você foi aprovado em %s com média final %r! ' %(disciplina, nota_final))\n",
    "else:\n",
    "    print('Lamento, acho que você precisa estudar mais!')\n"
   ]
  },
  {
   "cell_type": "markdown",
   "id": "a74bc945",
   "metadata": {},
   "source": [
    "FIM"
   ]
  }
 ],
 "metadata": {
  "kernelspec": {
   "display_name": "Python 3 (ipykernel)",
   "language": "python",
   "name": "python3"
  },
  "language_info": {
   "codemirror_mode": {
    "name": "ipython",
    "version": 3
   },
   "file_extension": ".py",
   "mimetype": "text/x-python",
   "name": "python",
   "nbconvert_exporter": "python",
   "pygments_lexer": "ipython3",
   "version": "3.9.12"
  }
 },
 "nbformat": 4,
 "nbformat_minor": 5
}
